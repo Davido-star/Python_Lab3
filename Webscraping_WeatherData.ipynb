{
  "nbformat": 4,
  "nbformat_minor": 0,
  "metadata": {
    "colab": {
      "name": "Webscraping_WeatherData.ipynb",
      "provenance": [],
      "authorship_tag": "ABX9TyNIzGrKsa/+2utjJptGkOvP",
      "include_colab_link": true
    },
    "kernelspec": {
      "name": "python3",
      "display_name": "Python 3"
    }
  },
  "cells": [
    {
      "cell_type": "markdown",
      "metadata": {
        "id": "view-in-github",
        "colab_type": "text"
      },
      "source": [
        "<a href=\"https://colab.research.google.com/github/Davido-star/Python_Lab3/blob/main/Webscraping_WeatherData.ipynb\" target=\"_parent\"><img src=\"https://colab.research.google.com/assets/colab-badge.svg\" alt=\"Open In Colab\"/></a>"
      ]
    },
    {
      "cell_type": "markdown",
      "metadata": {
        "id": "JcT071b51myN"
      },
      "source": [
        "#David Smith#\n",
        "03/17/2021.   \n",
        "Python 3.   \n",
        "Lab3: Scraping Weather Data.   \n"
      ]
    },
    {
      "cell_type": "code",
      "metadata": {
        "colab": {
          "base_uri": "https://localhost:8080/"
        },
        "id": "vb7du9e21ink",
        "outputId": "30fe6808-d8bc-4847-8598-43b359648742"
      },
      "source": [
        "'''\n",
        "Assignment title: Lab 3- Web-scraping Current Weather Conditions\n",
        "Date: 03/17/2021\n",
        "Description: The script web-scrapes the weather.gov website to extract current weather conditions for a selected location in the U.S.\n",
        "Inputs: Latitude & Longitude in Decimal Degrees\n",
        "Outputs: Current Weather Conditions\n",
        "'''\n",
        "\n",
        "# Import required libraries\n",
        "import requests\n",
        "from bs4 import BeautifulSoup\n",
        "\n",
        "# Provide the latitude and longitude for the location you would like to check the weather for\n",
        "# Lat/lon in decimal degrees provided for Helotes, TX\n",
        "lat = '29.576599'\n",
        "lon = '-98.689758'\n",
        "\n",
        "# Create url for the requested location through string concatenation\n",
        "url = 'https://forecast.weather.gov/MapClick.php?lat='+lat+\"&lon=\"+lon\n",
        "# Check if the URL exists\n",
        "# print url\n",
        "\n",
        "# Send request to retrieve the web-page using the get() function from the requests library\n",
        "# The page variable stores the response from the web-page\n",
        "page = requests.get(url)\n",
        "\n",
        "# Create a BeautifulSoup object with the response from the URL\n",
        "# Access contents of the web-page using .content\n",
        "# html_parser is used since our page is in HTML format\n",
        "soup=BeautifulSoup(page.content,\"html.parser\")\n",
        "\n",
        "# Locate element on page to be scraped\n",
        "# This element is located within an id tag called current_conditions_detail\n",
        "# find() locates the element in the BeautifulSoup object\n",
        "cur_weather_conditions = soup.find(id=\"current_conditions_detail\")\n",
        "\n",
        "# Extract text from the selected BeautifulSoup object using .text\n",
        "cur_weather_conditions = cur_weather_conditions.text\n",
        "\n",
        "# Final Output\n",
        "# Return scraped information\n",
        "print('The Current Weather Conditions at '+ lat +  \", \" + lon + \" is:\" + cur_weather_conditions)"
      ],
      "execution_count": 3,
      "outputs": [
        {
          "output_type": "stream",
          "text": [
            "The Current Weather Conditions at 29.576599, -98.689758 is:\n",
            "\n",
            "\n",
            "Humidity\n",
            "30%\n",
            "\n",
            "\n",
            "Wind Speed\n",
            "NW 18 G 26 mph\n",
            "\n",
            "\n",
            "Barometer\n",
            "29.97 in\n",
            "\n",
            "\n",
            "Dewpoint\n",
            "32°F (0°C)\n",
            "\n",
            "\n",
            "Visibility\n",
            "5.00 mi\n",
            "\n",
            "\n",
            "Last update\n",
            "\n",
            "                17 Mar 7:55 pm CDT            \n",
            "\n",
            "\n",
            "\n"
          ],
          "name": "stdout"
        }
      ]
    }
  ]
}